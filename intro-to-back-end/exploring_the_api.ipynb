{
 "cells": [
  {
   "cell_type": "code",
   "execution_count": 2,
   "metadata": {},
   "outputs": [
    {
     "data": {
      "text/plain": [
       "'{\"count\":1126,\"next\":\"https://pokeapi.co/api/v2/pokemon?offset=20&limit=20\",\"previous\":null,\"results\":[{\"name\":\"bulbasaur\",\"url\":\"https://pokeapi.co/api/v2/pokemon/1/\"},{\"name\":\"ivysaur\",\"url\":\"https://pokeapi.co/api/v2/pokemon/2/\"},{\"name\":\"venusaur\",\"url\":\"https://pokeapi.co/api/v2/pokemon/3/\"},{\"name\":\"charmander\",\"url\":\"https://pokeapi.co/api/v2/pokemon/4/\"},{\"name\":\"charmeleon\",\"url\":\"https://pokeapi.co/api/v2/pokemon/5/\"},{\"name\":\"charizard\",\"url\":\"https://pokeapi.co/api/v2/pokemon/6/\"},{\"name\":\"squirtle\",\"url\":\"https://pokeapi.co/api/v2/pokemon/7/\"},{\"name\":\"wartortle\",\"url\":\"https://pokeapi.co/api/v2/pokemon/8/\"},{\"name\":\"blastoise\",\"url\":\"https://pokeapi.co/api/v2/pokemon/9/\"},{\"name\":\"caterpie\",\"url\":\"https://pokeapi.co/api/v2/pokemon/10/\"},{\"name\":\"metapod\",\"url\":\"https://pokeapi.co/api/v2/pokemon/11/\"},{\"name\":\"butterfree\",\"url\":\"https://pokeapi.co/api/v2/pokemon/12/\"},{\"name\":\"weedle\",\"url\":\"https://pokeapi.co/api/v2/pokemon/13/\"},{\"name\":\"kakuna\",\"url\":\"https://pokeapi.co/api/v2/pokemon/14/\"},{\"name\":\"beedrill\",\"url\":\"https://pokeapi.co/api/v2/pokemon/15/\"},{\"name\":\"pidgey\",\"url\":\"https://pokeapi.co/api/v2/pokemon/16/\"},{\"name\":\"pidgeotto\",\"url\":\"https://pokeapi.co/api/v2/pokemon/17/\"},{\"name\":\"pidgeot\",\"url\":\"https://pokeapi.co/api/v2/pokemon/18/\"},{\"name\":\"rattata\",\"url\":\"https://pokeapi.co/api/v2/pokemon/19/\"},{\"name\":\"raticate\",\"url\":\"https://pokeapi.co/api/v2/pokemon/20/\"}]}'"
      ]
     },
     "execution_count": 2,
     "metadata": {},
     "output_type": "execute_result"
    }
   ],
   "source": [
    "import requests\n",
    "res = requests.get(\"https://pokeapi.co/api/v2/pokemon?limit=20/\")\n",
    "res.text"
   ]
  },
  {
   "cell_type": "code",
   "execution_count": 3,
   "metadata": {},
   "outputs": [
    {
     "data": {
      "text/plain": [
       "{'count': 1126,\n",
       " 'next': 'https://pokeapi.co/api/v2/pokemon?offset=20&limit=20',\n",
       " 'previous': None,\n",
       " 'results': [{'name': 'bulbasaur',\n",
       "   'url': 'https://pokeapi.co/api/v2/pokemon/1/'},\n",
       "  {'name': 'ivysaur', 'url': 'https://pokeapi.co/api/v2/pokemon/2/'},\n",
       "  {'name': 'venusaur', 'url': 'https://pokeapi.co/api/v2/pokemon/3/'},\n",
       "  {'name': 'charmander', 'url': 'https://pokeapi.co/api/v2/pokemon/4/'},\n",
       "  {'name': 'charmeleon', 'url': 'https://pokeapi.co/api/v2/pokemon/5/'},\n",
       "  {'name': 'charizard', 'url': 'https://pokeapi.co/api/v2/pokemon/6/'},\n",
       "  {'name': 'squirtle', 'url': 'https://pokeapi.co/api/v2/pokemon/7/'},\n",
       "  {'name': 'wartortle', 'url': 'https://pokeapi.co/api/v2/pokemon/8/'},\n",
       "  {'name': 'blastoise', 'url': 'https://pokeapi.co/api/v2/pokemon/9/'},\n",
       "  {'name': 'caterpie', 'url': 'https://pokeapi.co/api/v2/pokemon/10/'},\n",
       "  {'name': 'metapod', 'url': 'https://pokeapi.co/api/v2/pokemon/11/'},\n",
       "  {'name': 'butterfree', 'url': 'https://pokeapi.co/api/v2/pokemon/12/'},\n",
       "  {'name': 'weedle', 'url': 'https://pokeapi.co/api/v2/pokemon/13/'},\n",
       "  {'name': 'kakuna', 'url': 'https://pokeapi.co/api/v2/pokemon/14/'},\n",
       "  {'name': 'beedrill', 'url': 'https://pokeapi.co/api/v2/pokemon/15/'},\n",
       "  {'name': 'pidgey', 'url': 'https://pokeapi.co/api/v2/pokemon/16/'},\n",
       "  {'name': 'pidgeotto', 'url': 'https://pokeapi.co/api/v2/pokemon/17/'},\n",
       "  {'name': 'pidgeot', 'url': 'https://pokeapi.co/api/v2/pokemon/18/'},\n",
       "  {'name': 'rattata', 'url': 'https://pokeapi.co/api/v2/pokemon/19/'},\n",
       "  {'name': 'raticate', 'url': 'https://pokeapi.co/api/v2/pokemon/20/'}]}"
      ]
     },
     "execution_count": 3,
     "metadata": {},
     "output_type": "execute_result"
    }
   ],
   "source": [
    "data = res.json()\n",
    "data"
   ]
  },
  {
   "cell_type": "code",
   "execution_count": 9,
   "metadata": {},
   "outputs": [
    {
     "data": {
      "text/plain": [
       "[{'name': 'bulbasaur', 'url': 'https://pokeapi.co/api/v2/pokemon/1/'},\n",
       " {'name': 'ivysaur', 'url': 'https://pokeapi.co/api/v2/pokemon/2/'},\n",
       " {'name': 'venusaur', 'url': 'https://pokeapi.co/api/v2/pokemon/3/'},\n",
       " {'name': 'charmander', 'url': 'https://pokeapi.co/api/v2/pokemon/4/'},\n",
       " {'name': 'charmeleon', 'url': 'https://pokeapi.co/api/v2/pokemon/5/'},\n",
       " {'name': 'charizard', 'url': 'https://pokeapi.co/api/v2/pokemon/6/'},\n",
       " {'name': 'squirtle', 'url': 'https://pokeapi.co/api/v2/pokemon/7/'},\n",
       " {'name': 'wartortle', 'url': 'https://pokeapi.co/api/v2/pokemon/8/'},\n",
       " {'name': 'blastoise', 'url': 'https://pokeapi.co/api/v2/pokemon/9/'},\n",
       " {'name': 'caterpie', 'url': 'https://pokeapi.co/api/v2/pokemon/10/'},\n",
       " {'name': 'metapod', 'url': 'https://pokeapi.co/api/v2/pokemon/11/'},\n",
       " {'name': 'butterfree', 'url': 'https://pokeapi.co/api/v2/pokemon/12/'},\n",
       " {'name': 'weedle', 'url': 'https://pokeapi.co/api/v2/pokemon/13/'},\n",
       " {'name': 'kakuna', 'url': 'https://pokeapi.co/api/v2/pokemon/14/'},\n",
       " {'name': 'beedrill', 'url': 'https://pokeapi.co/api/v2/pokemon/15/'},\n",
       " {'name': 'pidgey', 'url': 'https://pokeapi.co/api/v2/pokemon/16/'},\n",
       " {'name': 'pidgeotto', 'url': 'https://pokeapi.co/api/v2/pokemon/17/'},\n",
       " {'name': 'pidgeot', 'url': 'https://pokeapi.co/api/v2/pokemon/18/'},\n",
       " {'name': 'rattata', 'url': 'https://pokeapi.co/api/v2/pokemon/19/'},\n",
       " {'name': 'raticate', 'url': 'https://pokeapi.co/api/v2/pokemon/20/'}]"
      ]
     },
     "execution_count": 9,
     "metadata": {},
     "output_type": "execute_result"
    }
   ],
   "source": [
    "data['results']"
   ]
  },
  {
   "cell_type": "code",
   "execution_count": 12,
   "metadata": {},
   "outputs": [],
   "source": [
    "import csv\n",
    "f = csv.writer(open(\"test.csv\", \"w\"))\n",
    "\n",
    "# Write CSV Header, If you dont need that, remove this line\n",
    "f.writerow([\"name\", \"url\"])\n",
    "\n",
    "for x in data['results']:\n",
    "    f.writerow([x[\"name\"], x[\"url\"]])"
   ]
  },
  {
   "cell_type": "code",
   "execution_count": 4,
   "metadata": {},
   "outputs": [
    {
     "name": "stdout",
     "output_type": "stream",
     "text": [
      "{'name': 'bulbasaur', 'url': 'https://pokeapi.co/api/v2/pokemon/1/', 'type': 'grass', 'height': '7', 'weight': '69'}\n",
      "{'name': 'ivysaur', 'url': 'https://pokeapi.co/api/v2/pokemon/2/', 'type': 'grass', 'height': '10', 'weight': '130'}\n",
      "{'name': 'venusaur', 'url': 'https://pokeapi.co/api/v2/pokemon/3/', 'type': 'grass', 'height': '20', 'weight': '1000'}\n",
      "{'name': 'charmander', 'url': 'https://pokeapi.co/api/v2/pokemon/4/', 'type': 'fire', 'height': '6', 'weight': '85'}\n",
      "{'name': 'charmeleon', 'url': 'https://pokeapi.co/api/v2/pokemon/5/', 'type': 'fire', 'height': '11', 'weight': '190'}\n",
      "{'name': 'charizard', 'url': 'https://pokeapi.co/api/v2/pokemon/6/', 'type': 'fire', 'height': '17', 'weight': '905'}\n",
      "{'name': 'squirtle', 'url': 'https://pokeapi.co/api/v2/pokemon/7/', 'type': 'water', 'height': '5', 'weight': '90'}\n",
      "{'name': 'wartortle', 'url': 'https://pokeapi.co/api/v2/pokemon/8/', 'type': 'water', 'height': '10', 'weight': '225'}\n",
      "{'name': 'blastoise', 'url': 'https://pokeapi.co/api/v2/pokemon/9/', 'type': 'water', 'height': '16', 'weight': '855'}\n",
      "{'name': 'caterpie', 'url': 'https://pokeapi.co/api/v2/pokemon/10/', 'type': 'bug', 'height': '3', 'weight': '29'}\n",
      "{'name': 'metapod', 'url': 'https://pokeapi.co/api/v2/pokemon/11/', 'type': 'bug', 'height': '7', 'weight': '99'}\n",
      "{'name': 'butterfree', 'url': 'https://pokeapi.co/api/v2/pokemon/12/', 'type': 'bug', 'height': '11', 'weight': '320'}\n",
      "{'name': 'weedle', 'url': 'https://pokeapi.co/api/v2/pokemon/13/', 'type': 'bug', 'height': '3', 'weight': '32'}\n",
      "{'name': 'kakuna', 'url': 'https://pokeapi.co/api/v2/pokemon/14/', 'type': 'bug', 'height': '6', 'weight': '100'}\n",
      "{'name': 'beedrill', 'url': 'https://pokeapi.co/api/v2/pokemon/15/', 'type': 'bug', 'height': '10', 'weight': '295'}\n",
      "{'name': 'pidgey', 'url': 'https://pokeapi.co/api/v2/pokemon/16/', 'type': 'normal', 'height': '3', 'weight': '18'}\n",
      "{'name': 'pidgeotto', 'url': 'https://pokeapi.co/api/v2/pokemon/17/', 'type': 'normal', 'height': '11', 'weight': '300'}\n",
      "{'name': 'pidgeot', 'url': 'https://pokeapi.co/api/v2/pokemon/18/', 'type': 'normal', 'height': '15', 'weight': '395'}\n",
      "{'name': 'rattata', 'url': 'https://pokeapi.co/api/v2/pokemon/19/', 'type': 'normal', 'height': '3', 'weight': '35'}\n",
      "{'name': 'raticate', 'url': 'https://pokeapi.co/api/v2/pokemon/20/', 'type': 'normal', 'height': '7', 'weight': '185'}\n"
     ]
    }
   ],
   "source": [
    "with open( \"test.csv\", 'r' ) as f:\n",
    "    reader = csv.DictReader(f)\n",
    "    for line in reader:\n",
    "        print(line)"
   ]
  },
  {
   "cell_type": "code",
   "execution_count": 5,
   "metadata": {},
   "outputs": [
    {
     "data": {
      "text/plain": [
       "{'name': 'raticate',\n",
       " 'url': 'https://pokeapi.co/api/v2/pokemon/20/',\n",
       " 'type': 'normal',\n",
       " 'height': '7',\n",
       " 'weight': '185'}"
      ]
     },
     "execution_count": 5,
     "metadata": {},
     "output_type": "execute_result"
    }
   ],
   "source": [
    "line"
   ]
  },
  {
   "cell_type": "code",
   "execution_count": 7,
   "metadata": {},
   "outputs": [
    {
     "data": {
      "text/plain": [
       "dict_keys(['abilities', 'base_experience', 'forms', 'game_indices', 'height', 'held_items', 'id', 'is_default', 'location_area_encounters', 'moves', 'name', 'order', 'past_types', 'species', 'sprites', 'stats', 'types', 'weight'])"
      ]
     },
     "execution_count": 7,
     "metadata": {},
     "output_type": "execute_result"
    }
   ],
   "source": [
    "import requests\n",
    "data_rata = requests.get(line['url']).json()\n"
   ]
  },
  {
   "cell_type": "code",
   "execution_count": 14,
   "metadata": {},
   "outputs": [
    {
     "data": {
      "image/png": "[encoded data removed]",
      "text/plain": [
       "<IPython.core.display.Image object>"
      ]
     },
     "metadata": {},
     "output_type": "display_data"
    }
   ],
   "source": [
    "from IPython.display import Image, display\n",
    "img_res = requests.get(data_rata['sprites']['front_default'])\n",
    "display(Image(img_res.content))"
   ]
  },
  {
   "cell_type": "code",
   "execution_count": 25,
   "metadata": {},
   "outputs": [
    {
     "data": {
      "text/plain": [
       "('normal', 7, 185)"
      ]
     },
     "execution_count": 25,
     "metadata": {},
     "output_type": "execute_result"
    }
   ],
   "source": [
    "data_rata[\"types\"][0]['type']['name'], data_rata[\"height\"], data_rata[\"weight\"]"
   ]
  },
  {
   "cell_type": "code",
   "execution_count": 4,
   "metadata": {},
   "outputs": [],
   "source": [
    "import csv\n",
    "f = csv.writer(open(\"test2.csv\", \"w\"))\n",
    "\n",
    "# Write CSV Header, If you dont need that, remove this line\n",
    "f.writerow([\"name\", \"url\", 'type', \"height\", \"weight\"])\n",
    "\n",
    "for x in data['results']:\n",
    "    data_itermediate = requests.get(x['url']).json()\n",
    "    f.writerow([x[\"name\"], x[\"url\"], data_itermediate[\"types\"][0]['type']['name'], data_itermediate[\"height\"], data_itermediate[\"weight\"]])"
   ]
  },
  {
   "cell_type": "code",
   "execution_count": 5,
   "metadata": {},
   "outputs": [
    {
     "name": "stdout",
     "output_type": "stream",
     "text": [
      "{'name': 'bulbasaur', 'url': 'https://pokeapi.co/api/v2/pokemon/1/', 'type': 'grass', 'height': '7', 'weight': '69'}\n",
      "{'name': 'ivysaur', 'url': 'https://pokeapi.co/api/v2/pokemon/2/', 'type': 'grass', 'height': '10', 'weight': '130'}\n",
      "{'name': 'venusaur', 'url': 'https://pokeapi.co/api/v2/pokemon/3/', 'type': 'grass', 'height': '20', 'weight': '1000'}\n",
      "{'name': 'charmander', 'url': 'https://pokeapi.co/api/v2/pokemon/4/', 'type': 'fire', 'height': '6', 'weight': '85'}\n",
      "{'name': 'charmeleon', 'url': 'https://pokeapi.co/api/v2/pokemon/5/', 'type': 'fire', 'height': '11', 'weight': '190'}\n",
      "{'name': 'charizard', 'url': 'https://pokeapi.co/api/v2/pokemon/6/', 'type': 'fire', 'height': '17', 'weight': '905'}\n",
      "{'name': 'squirtle', 'url': 'https://pokeapi.co/api/v2/pokemon/7/', 'type': 'water', 'height': '5', 'weight': '90'}\n",
      "{'name': 'wartortle', 'url': 'https://pokeapi.co/api/v2/pokemon/8/', 'type': 'water', 'height': '10', 'weight': '225'}\n",
      "{'name': 'blastoise', 'url': 'https://pokeapi.co/api/v2/pokemon/9/', 'type': 'water', 'height': '16', 'weight': '855'}\n",
      "{'name': 'caterpie', 'url': 'https://pokeapi.co/api/v2/pokemon/10/', 'type': 'bug', 'height': '3', 'weight': '29'}\n",
      "{'name': 'metapod', 'url': 'https://pokeapi.co/api/v2/pokemon/11/', 'type': 'bug', 'height': '7', 'weight': '99'}\n",
      "{'name': 'butterfree', 'url': 'https://pokeapi.co/api/v2/pokemon/12/', 'type': 'bug', 'height': '11', 'weight': '320'}\n",
      "{'name': 'weedle', 'url': 'https://pokeapi.co/api/v2/pokemon/13/', 'type': 'bug', 'height': '3', 'weight': '32'}\n",
      "{'name': 'kakuna', 'url': 'https://pokeapi.co/api/v2/pokemon/14/', 'type': 'bug', 'height': '6', 'weight': '100'}\n",
      "{'name': 'beedrill', 'url': 'https://pokeapi.co/api/v2/pokemon/15/', 'type': 'bug', 'height': '10', 'weight': '295'}\n",
      "{'name': 'pidgey', 'url': 'https://pokeapi.co/api/v2/pokemon/16/', 'type': 'normal', 'height': '3', 'weight': '18'}\n",
      "{'name': 'pidgeotto', 'url': 'https://pokeapi.co/api/v2/pokemon/17/', 'type': 'normal', 'height': '11', 'weight': '300'}\n",
      "{'name': 'pidgeot', 'url': 'https://pokeapi.co/api/v2/pokemon/18/', 'type': 'normal', 'height': '15', 'weight': '395'}\n",
      "{'name': 'rattata', 'url': 'https://pokeapi.co/api/v2/pokemon/19/', 'type': 'normal', 'height': '3', 'weight': '35'}\n",
      "{'name': 'raticate', 'url': 'https://pokeapi.co/api/v2/pokemon/20/', 'type': 'normal', 'height': '7', 'weight': '185'}\n"
     ]
    }
   ],
   "source": [
    "with open( \"test.csv\", 'r' ) as f:\n",
    "    reader = csv.DictReader(f)\n",
    "    for line in reader:\n",
    "        print(line)"
   ]
  },
  {
   "cell_type": "code",
   "execution_count": 3,
   "metadata": {},
   "outputs": [],
   "source": []
  },
  {
   "cell_type": "code",
   "execution_count": null,
   "metadata": {},
   "outputs": [],
   "source": []
  }
 ],
 "metadata": {
  "interpreter": {
   "hash": "aee8b7b246df8f9039afb4144a1f6fd8d2ca17a180786b69acc140d282b71a49"
  },
  "kernelspec": {
   "display_name": "Python 3.9.9 64-bit",
   "language": "python",
   "name": "python3"
  },
  "language_info": {
   "codemirror_mode": {
    "name": "ipython",
    "version": 3
   },
   "file_extension": ".py",
   "mimetype": "text/x-python",
   "name": "python",
   "nbconvert_exporter": "python",
   "pygments_lexer": "ipython3",
   "version": "3.9.9"
  },
  "orig_nbformat": 4
 },
 "nbformat": 4,
 "nbformat_minor": 2
}
